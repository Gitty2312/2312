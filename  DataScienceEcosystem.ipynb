{
 "cells": [
  {
   "cell_type": "markdown",
   "metadata": {},
   "source": [
    ">Exercise 2\n",
    "# Heading (H1, Data Science Tools and Ecosystem)"
   ]
  },
  {
   "cell_type": "markdown",
   "metadata": {},
   "source": [
    "> Exercise 3: In this notebook, Data Science Tools and Ecosystem are summarized."
   ]
  },
  {
   "cell_type": "markdown",
   "metadata": {},
   "source": [
    "> Exercise 10 Insert a markdown cell to list Objectives\n",
    "<b> Objectives:<b>\n",
    "    <ul> \n",
    "    <li> List popular languages for Data Science\n",
    "    <li> List popular libraries\n",
    "    <li> list popular Data tools\n",
    "    <li>Explore arthematic functions\n",
    "    <ul>\n"
   ]
  },
  {
   "cell_type": "markdown",
   "metadata": {},
   "source": [
    "\n",
    "> Exercise 4: Some of the most favourite programming languages for data scientists are:\n",
    "- Java\n",
    "- Python\n",
    "- R\n"
   ]
  },
  {
   "cell_type": "markdown",
   "metadata": {},
   "source": [
    "> Exercise 5 :Some of the commonly used libraries by data scientists are:\n",
    "<ol>\n",
    "<li>NumPy\n",
    "<li>SciPy\n",
    "<li>Matplotlib\n",
    "<li>Seaborn\n",
    "<ol>"
   ]
  },
  {
   "cell_type": "markdown",
   "metadata": {},
   "source": [
    "> Exercise 6: Commonly used Data tools are:\n",
    "<table style=\"width:20%\">\n",
    "<tr>\n",
    "<th>DataTools</th>\n",
    "</tr>\n",
    "\n",
    "<tr>\n",
    "<td>APACHESPARK</td>\n",
    "</tr>\n",
    "\n",
    "<tr>\n",
    "<td>TABLEAU</td>\n",
    "</tr>\n",
    "\n",
    "<tr>\n",
    "<td>PYTHON</td>\n",
    "</tr>\n",
    "\n",
    "</table>"
   ]
  },
  {
   "cell_type": "markdown",
   "metadata": {},
   "source": []
  },
  {
   "cell_type": "markdown",
   "metadata": {},
   "source": [
    ">Exercise 7: \n",
    "# HEADING (H3, Below are a few examples of evaluating arithmetic expressions in Python)\n",
    "\n",
    "- (x + y) # Addition \n",
    "- (x - y) # Substraction\n",
    "- (x * y) # Multiplication \n",
    "- (x / y) # Division"
   ]
  },
  {
   "cell_type": "code",
   "execution_count": 17,
   "metadata": {},
   "outputs": [
    {
     "name": "stdout",
     "output_type": "stream",
     "text": [
      "17\n"
     ]
    }
   ],
   "source": [
    "# Exercise 8 Simple arthematic \n",
    "x = (3*4)+5\n",
    "print(x)\n"
   ]
  },
  {
   "cell_type": "code",
   "execution_count": 18,
   "metadata": {},
   "outputs": [
    {
     "name": "stdout",
     "output_type": "stream",
     "text": [
      "3.3333333333333335\n"
     ]
    }
   ],
   "source": [
    "#Exercise 9 - Create a code cell to convert minutes to hours\n",
    "\n",
    "mns = 200\n",
    "hrs = mns/60\n",
    "print(hrs)\n"
   ]
  },
  {
   "cell_type": "markdown",
   "metadata": {},
   "source": [
    "# Heading (H2, Author) #\n",
    "Vasavi Gottu\n"
   ]
  }
 ],
 "metadata": {
  "kernelspec": {
   "display_name": "Python 3.11.0 64-bit",
   "language": "python",
   "name": "python3"
  },
  "language_info": {
   "codemirror_mode": {
    "name": "ipython",
    "version": 3
   },
   "file_extension": ".py",
   "mimetype": "text/x-python",
   "name": "python",
   "nbconvert_exporter": "python",
   "pygments_lexer": "ipython3",
   "version": "3.11.0"
  },
  "orig_nbformat": 4,
  "vscode": {
   "interpreter": {
    "hash": "5c7b89af1651d0b8571dde13640ecdccf7d5a6204171d6ab33e7c296e100e08a"
   }
  }
 },
 "nbformat": 4,
 "nbformat_minor": 2
}
